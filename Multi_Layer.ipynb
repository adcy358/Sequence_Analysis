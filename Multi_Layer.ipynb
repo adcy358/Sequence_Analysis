{
 "cells": [
  {
   "cell_type": "markdown",
   "id": "48c60255-20bf-4d01-ae1c-7636f5367d42",
   "metadata": {},
   "source": [
    "# Multi Layer LSTM"
   ]
  },
  {
   "cell_type": "markdown",
   "id": "32120681-e11d-488f-aae7-c3617e1c2be2",
   "metadata": {},
   "source": [
    "We will train the following number of cells for a Three-Layer LSTM: "
   ]
  },
  {
   "cell_type": "code",
   "execution_count": 1,
   "id": "1d184d5d-7056-4ea6-8103-181b181d5c58",
   "metadata": {},
   "outputs": [],
   "source": [
    "import torch \n",
    "from torch import nn \n",
    "import numpy as np\n",
    "import argparse\n",
    "from Dataset import FairytalesDataset\n",
    "from torch import nn, optim\n",
    "from torch.utils.data import DataLoader\n",
    "from train import save_checkpoint, load_checkpoint, train\n",
    "from models import Lstm_model\n",
    "from test import predict \n",
    "import time"
   ]
  },
  {
   "cell_type": "code",
   "execution_count": 2,
   "id": "15c8f873-041f-478e-a9eb-9fb58ad967ea",
   "metadata": {},
   "outputs": [
    {
     "name": "stdout",
     "output_type": "stream",
     "text": [
      "(tensor([ 53,   9,  73,   6,  19, 149,  40]), tensor([  9,  73,   6,  19, 149,  40,  93]))\n",
      "Vocab: 3028\n"
     ]
    }
   ],
   "source": [
    "DIR_PATH = \"data/fairytales.txt\"\n",
    "START_TOKEN = \"<s>\"\n",
    "END_TOKEN = \"</s>\"\n",
    "\n",
    "parser = argparse.ArgumentParser()\n",
    "parser.add_argument('--max-epochs', type=int, default=0)\n",
    "parser.add_argument('--batch-size', type=int, default=256)\n",
    "parser.add_argument('--sequence_length', type=int, default=7)\n",
    "args, unknown = parser.parse_known_args()\n",
    "\n",
    "dataset = FairytalesDataset(DIR_PATH, START_TOKEN, END_TOKEN, args)\n",
    "print(dataset.__getitem__(3))\n",
    "print('Vocab:', len(dataset.unique_words))"
   ]
  },
  {
   "cell_type": "markdown",
   "id": "99bde286-b21e-4916-b189-7cf6ccbba314",
   "metadata": {},
   "source": [
    "## 1. 128 cells"
   ]
  },
  {
   "cell_type": "code",
   "execution_count": 3,
   "id": "39f7884c-4d77-4e10-bcdf-5232cb183067",
   "metadata": {},
   "outputs": [],
   "source": [
    "model = Lstm_model(dataset, lstm_size = 128, num_layers = 3)"
   ]
  },
  {
   "cell_type": "code",
   "execution_count": 4,
   "id": "79840734-ab71-4733-908f-90ead0f830e5",
   "metadata": {},
   "outputs": [
    {
     "name": "stdout",
     "output_type": "stream",
     "text": [
      "-> Loading checkpoint\n",
      "Elapsed time:  0.03902482986450195\n"
     ]
    }
   ],
   "source": [
    "start_time = time.time()\n",
    "\n",
    "loss_hist = train(dataset, model, args, ckpt_filename='multi_layer_lstm/128.tar',\n",
    "      load_model=True, save_epochs=2)\n",
    "\n",
    "end_time = time.time()\n",
    "elapsed_time = end_time - start_time\n",
    "print(\"Elapsed time: \", elapsed_time) "
   ]
  },
  {
   "cell_type": "code",
   "execution_count": 5,
   "id": "ee982010-92e9-4874-a927-a2b8605bb559",
   "metadata": {},
   "outputs": [
    {
     "data": {
      "image/png": "[encoded data removed]",
      "text/plain": [
       "<Figure size 432x288 with 1 Axes>"
      ]
     },
     "metadata": {
      "needs_background": "light"
     },
     "output_type": "display_data"
    }
   ],
   "source": [
    "import matplotlib.pyplot as plt\n",
    "\n",
    "exp = torch.load('multi_layer_lstm/128.tar')\n",
    "loss_history = exp[\"loss_history\"]\n",
    "\n",
    "plt.plot(range(len(loss_history)), loss_history)\n",
    "plt.xlabel(\"Epoch\")\n",
    "plt.ylabel(\"Loss\")\n",
    "plt.title(\"Number of cells: 128\")\n",
    "plt.show()"
   ]
  },
  {
   "cell_type": "code",
   "execution_count": 6,
   "id": "76b2b75e-583f-42d2-8f9b-17b9a163301b",
   "metadata": {},
   "outputs": [
    {
     "name": "stdout",
     "output_type": "stream",
     "text": [
      "Generated text:\n",
      " \n",
      "<s> this is a story about paint as by on a boats which open and but paperarello climbed up in shore </s> <s> paperarello held anything away with him </s> <s> however else love they as paperarello who had been no old cut in their fashion but by a thought </s> <s> the meal is the secret of this years of here </s> <s> he listened </s> <s> then the king directions here his princess standing and but it came to a great palace to look on his suit and he ran off </s> <s> evening at the bottom to the royal first should his horse </s>\n",
      " \n",
      "Number of sentences: 7\n",
      " \n",
      "Perplexity per sentence: [2.834132168142611, 1.1966362221651183, 2.4642008302313103, 2.0666287745765146, 1.5723899361727245, 1.7936032865231635, 2.284084840362747]\n",
      " \n",
      "Average sentence perplexity: 2.030239436882027\n"
     ]
    }
   ],
   "source": [
    "text,sent_perplexity = predict(dataset, model, text='this is a story about', next_words=100)\n",
    "\n",
    "print('Generated text:')\n",
    "print(' ')\n",
    "print(text)\n",
    "print(' ')\n",
    "print('Number of sentences:', len(sent_perplexity))\n",
    "print(' ')\n",
    "print('Perplexity per sentence:', sent_perplexity)\n",
    "print(' ')\n",
    "print('Average sentence perplexity:', sum(sent_perplexity) / len(sent_perplexity))"
   ]
  },
  {
   "cell_type": "markdown",
   "id": "577fbfa8-496d-4c7b-9739-30ae4ee51c05",
   "metadata": {},
   "source": [
    "## 2. 256 cells"
   ]
  },
  {
   "cell_type": "code",
   "execution_count": 7,
   "id": "f34e7260-4a8d-4a36-8c20-8eee1fd2eb83",
   "metadata": {},
   "outputs": [],
   "source": [
    "model2 = Lstm_model(dataset, lstm_size = 256, num_layers = 3)"
   ]
  },
  {
   "cell_type": "code",
   "execution_count": 8,
   "id": "4fe63738-3ab0-4f80-9f0a-896e3d7fa1eb",
   "metadata": {},
   "outputs": [
    {
     "name": "stdout",
     "output_type": "stream",
     "text": [
      "-> Loading checkpoint\n",
      "Elapsed time:  0.07657432556152344\n"
     ]
    }
   ],
   "source": [
    "start_time = time.time()\n",
    "\n",
    "loss_hist = train(dataset, model2, args, ckpt_filename='multi_layer_lstm/256.tar',\n",
    "      load_model=True, save_epochs=2)\n",
    "\n",
    "end_time = time.time()\n",
    "elapsed_time = end_time - start_time\n",
    "print(\"Elapsed time: \", elapsed_time) "
   ]
  },
  {
   "cell_type": "code",
   "execution_count": 9,
   "id": "a671aa39-7d1e-4cf5-8743-5589e2c36ab5",
   "metadata": {},
   "outputs": [
    {
     "data": {
      "image/png": "[encoded data removed]",
      "text/plain": [
       "<Figure size 432x288 with 1 Axes>"
      ]
     },
     "metadata": {
      "needs_background": "light"
     },
     "output_type": "display_data"
    }
   ],
   "source": [
    "import matplotlib.pyplot as plt\n",
    "\n",
    "exp2 = torch.load('multi_layer_lstm/256.tar')\n",
    "loss_history2 = exp2[\"loss_history\"]\n",
    "\n",
    "plt.plot(range(len(loss_history2)), loss_history2)\n",
    "plt.xlabel(\"Epoch\")\n",
    "plt.ylabel(\"Loss\")\n",
    "plt.title(\"Number of cells: 256\")\n",
    "plt.show()"
   ]
  },
  {
   "cell_type": "code",
   "execution_count": 10,
   "id": "dc752fd2-4fd9-488c-8a80-5734fcb55cec",
   "metadata": {},
   "outputs": [
    {
     "name": "stdout",
     "output_type": "stream",
     "text": [
      "Generated text:\n",
      " \n",
      "<s> this is a story about sprang almost running which we can stoop more amusing </s> <s> when the enemy did not no good maiden he returned of some place whom she could be sitting which far before alone at once in a tall house </s> <s> i thought what are yours and only only just tiidu makes that home </s> <s> the maiden nor no hole in the third moment he talked out him on its chase and servants with the help of the men calling to eat with his cramped beside over it and in the sound of the lake where the knight was </s>\n",
      " \n",
      "Number of sentences: 4\n",
      " \n",
      "Perplexity per sentence: [1.307819341958626, 1.5953296198732052, 1.2225491086485352, 1.3104423249021888]\n",
      " \n",
      "Average sentence perplexity: 1.3590350988456388\n"
     ]
    }
   ],
   "source": [
    "text,sent_perplexity = predict(dataset, model2, text='this is a story about', next_words=100)\n",
    "\n",
    "print('Generated text:')\n",
    "print(' ')\n",
    "print(text)\n",
    "print(' ')\n",
    "print('Number of sentences:', len(sent_perplexity))\n",
    "print(' ')\n",
    "print('Perplexity per sentence:', sent_perplexity)\n",
    "print(' ')\n",
    "print('Average sentence perplexity:', sum(sent_perplexity) / len(sent_perplexity))"
   ]
  },
  {
   "cell_type": "markdown",
   "id": "43678a82-a557-4662-aab1-6325ce37546a",
   "metadata": {},
   "source": [
    "## 3. 512 cells "
   ]
  },
  {
   "cell_type": "code",
   "execution_count": 3,
   "id": "0a745855-0b78-40d9-9dfb-2771d9ebb1aa",
   "metadata": {},
   "outputs": [],
   "source": [
    "model3 = Lstm_model(dataset, lstm_size = 512, num_layers = 3)"
   ]
  },
  {
   "cell_type": "code",
   "execution_count": 4,
   "id": "7dcc7340-b91f-4611-a725-afb263d1b3ec",
   "metadata": {},
   "outputs": [
    {
     "name": "stdout",
     "output_type": "stream",
     "text": [
      "-> Loading checkpoint\n",
      "Elapsed time:  0.17913198471069336\n"
     ]
    }
   ],
   "source": [
    "start_time = time.time()\n",
    "\n",
    "train(dataset, model3, args, ckpt_filename='multi_layer_lstm/512.tar',\n",
    "      load_model=True, save_epochs=2)\n",
    "\n",
    "end_time = time.time()\n",
    "elapsed_time = end_time - start_time\n",
    "print(\"Elapsed time: \", elapsed_time) "
   ]
  },
  {
   "cell_type": "code",
   "execution_count": 5,
   "id": "906dd90f-2cf8-4bce-a942-64eb29f7cc89",
   "metadata": {},
   "outputs": [
    {
     "data": {
      "image/png": "[encoded data removed]",
      "text/plain": [
       "<Figure size 432x288 with 1 Axes>"
      ]
     },
     "metadata": {
      "needs_background": "light"
     },
     "output_type": "display_data"
    }
   ],
   "source": [
    "import matplotlib.pyplot as plt\n",
    "\n",
    "exp3 = torch.load('multi_layer_lstm/512.tar')\n",
    "loss_history3 = exp3[\"loss_history\"]\n",
    "\n",
    "plt.plot(range(len(loss_history3)), loss_history3)\n",
    "plt.xlabel(\"Epoch\")\n",
    "plt.ylabel(\"Loss\")\n",
    "plt.title(\"Number of cells: 512\")\n",
    "plt.show()"
   ]
  },
  {
   "cell_type": "code",
   "execution_count": 19,
   "id": "23d8c04f-cfee-4105-a08c-f120c26343f3",
   "metadata": {},
   "outputs": [
    {
     "name": "stdout",
     "output_type": "stream",
     "text": [
      "Generated text:\n",
      " \n",
      "<s> once upon a time stood without welcome the castle </s> <s> then he felt it would be foolish to go any further and he turned to find his way home </s> <s> he thought it would be easy enough to follow the path along which he had come but somehow it was always branching off in unexpected directions </s> <s> he looked about for a house where he might stop and ask his way but there was not a sign of one anywhere and he was afraid to stand still for it was cold and there were many stories of wolves over this strange </s>\n",
      " \n",
      "Number of sentences: 4\n",
      " \n",
      "Perplexity per sentence: [1.9388173251557141, 0.18674698194998668, 0.0024786042883794715, 0.29016245255073075]\n",
      " \n",
      "Average sentence perplexity: 0.6045513409862027\n"
     ]
    }
   ],
   "source": [
    "text,sent_perplexity = predict(dataset, model3, text='once upon a time', next_words=100)\n",
    "\n",
    "print('Generated text:')\n",
    "print(' ')\n",
    "print(text)\n",
    "print(' ')\n",
    "print('Number of sentences:', len(sent_perplexity))\n",
    "print(' ')\n",
    "print('Perplexity per sentence:', sent_perplexity)\n",
    "print(' ')\n",
    "print('Average sentence perplexity:', sum(sent_perplexity) / len(sent_perplexity))"
   ]
  },
  {
   "cell_type": "code",
   "execution_count": null,
   "id": "96e75471-da51-41c2-8e83-d586bc5bb71a",
   "metadata": {},
   "outputs": [],
   "source": []
  }
 ],
 "metadata": {
  "kernelspec": {
   "display_name": "Python 3 (ipykernel)",
   "language": "python",
   "name": "python3"
  },
  "language_info": {
   "codemirror_mode": {
    "name": "ipython",
    "version": 3
   },
   "file_extension": ".py",
   "mimetype": "text/x-python",
   "name": "python",
   "nbconvert_exporter": "python",
   "pygments_lexer": "ipython3",
   "version": "3.9.5"
  }
 },
 "nbformat": 4,
 "nbformat_minor": 5
}
