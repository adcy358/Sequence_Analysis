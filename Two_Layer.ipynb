{
 "cells": [
  {
   "cell_type": "markdown",
   "id": "48c60255-20bf-4d01-ae1c-7636f5367d42",
   "metadata": {},
   "source": [
    "# Two Layer LSTM"
   ]
  },
  {
   "cell_type": "markdown",
   "id": "32120681-e11d-488f-aae7-c3617e1c2be2",
   "metadata": {},
   "source": [
    "We will train the following number of cells for a Two-Layer LSTM: "
   ]
  },
  {
   "cell_type": "code",
   "execution_count": 1,
   "id": "1d184d5d-7056-4ea6-8103-181b181d5c58",
   "metadata": {},
   "outputs": [],
   "source": [
    "import torch \n",
    "from torch import nn \n",
    "import numpy as np\n",
    "import argparse\n",
    "from Dataset import FairytalesDataset\n",
    "from torch import nn, optim\n",
    "from torch.utils.data import DataLoader\n",
    "from train import save_checkpoint, load_checkpoint, train\n",
    "from models import Lstm_model\n",
    "from test import predict \n",
    "import time"
   ]
  },
  {
   "cell_type": "code",
   "execution_count": 2,
   "id": "15c8f873-041f-478e-a9eb-9fb58ad967ea",
   "metadata": {},
   "outputs": [
    {
     "name": "stdout",
     "output_type": "stream",
     "text": [
      "(tensor([ 53,   9,  73,   6,  19, 149,  40]), tensor([  9,  73,   6,  19, 149,  40,  93]))\n",
      "Vocab: 3028\n"
     ]
    }
   ],
   "source": [
    "DIR_PATH = \"data/fairytales.txt\"\n",
    "START_TOKEN = \"<s>\"\n",
    "END_TOKEN = \"</s>\"\n",
    "\n",
    "parser = argparse.ArgumentParser()\n",
    "parser.add_argument('--max-epochs', type=int, default=0)\n",
    "parser.add_argument('--batch-size', type=int, default=256)\n",
    "parser.add_argument('--sequence_length', type=int, default=7)\n",
    "args, unknown = parser.parse_known_args()\n",
    "\n",
    "dataset = FairytalesDataset(DIR_PATH, START_TOKEN, END_TOKEN, args)\n",
    "print(dataset.__getitem__(3))\n",
    "print('Vocab:', len(dataset.unique_words))"
   ]
  },
  {
   "cell_type": "markdown",
   "id": "99bde286-b21e-4916-b189-7cf6ccbba314",
   "metadata": {},
   "source": [
    "## 1. 128 cells"
   ]
  },
  {
   "cell_type": "code",
   "execution_count": 3,
   "id": "39f7884c-4d77-4e10-bcdf-5232cb183067",
   "metadata": {},
   "outputs": [],
   "source": [
    "model = Lstm_model(dataset, lstm_size = 128, num_layers = 2)"
   ]
  },
  {
   "cell_type": "code",
   "execution_count": 4,
   "id": "79840734-ab71-4733-908f-90ead0f830e5",
   "metadata": {},
   "outputs": [
    {
     "name": "stdout",
     "output_type": "stream",
     "text": [
      "-> Loading checkpoint\n",
      "Elapsed time:  0.03315091133117676\n"
     ]
    }
   ],
   "source": [
    "start_time = time.time()\n",
    "\n",
    "loss_hist = train(dataset, model, args, ckpt_filename='two_layer_lstm/128.tar',\n",
    "      load_model=True, save_epochs=2)\n",
    "\n",
    "end_time = time.time()\n",
    "elapsed_time = end_time - start_time\n",
    "print(\"Elapsed time: \", elapsed_time) "
   ]
  },
  {
   "cell_type": "code",
   "execution_count": 5,
   "id": "ee982010-92e9-4874-a927-a2b8605bb559",
   "metadata": {},
   "outputs": [
    {
     "data": {
      "image/png": "[encoded data removed]",
      "text/plain": [
       "<Figure size 432x288 with 1 Axes>"
      ]
     },
     "metadata": {
      "needs_background": "light"
     },
     "output_type": "display_data"
    }
   ],
   "source": [
    "import matplotlib.pyplot as plt\n",
    "\n",
    "exp = torch.load('two_layer_lstm/128.tar')\n",
    "loss_history = exp[\"loss_history\"]\n",
    "plt.plot(range(len(loss_history)), loss_history) # trained for 60 epochs\n",
    "plt.xlabel(\"Epoch\")\n",
    "plt.ylabel(\"Loss\")\n",
    "plt.show()"
   ]
  },
  {
   "cell_type": "code",
   "execution_count": 6,
   "id": "76b2b75e-583f-42d2-8f9b-17b9a163301b",
   "metadata": {},
   "outputs": [
    {
     "name": "stdout",
     "output_type": "stream",
     "text": [
      "Generated text:\n",
      " \n",
      "<s> this is a story about last fly was when this when careful home all i really have a years only shook the ground </s> <s> he cut off his daughter to get for him and there was a christening arrows ran high his more man sprang a hole in him but happened for all the king saw that the queen was more than before </s> <s> wondered to dinner next words she had ridden his flute orders that he had all the best pleased him happy in the mill but only two of his son all each two as a little took man in each </s>\n",
      " \n",
      "Number of sentences: 3\n",
      " \n",
      "Perplexity per sentence: [3.107249210540422, 1.864145669980731, 1.8760510746512928]\n",
      " \n",
      "Average sentence perplexity: 2.282481985057482\n"
     ]
    }
   ],
   "source": [
    "text,sent_perplexity = predict(dataset, model, text='this is a story about', next_words=100)\n",
    "\n",
    "print('Generated text:')\n",
    "print(' ')\n",
    "print(text)\n",
    "print(' ')\n",
    "print('Number of sentences:', len(sent_perplexity))\n",
    "print(' ')\n",
    "print('Perplexity per sentence:', sent_perplexity)\n",
    "print(' ')\n",
    "print('Average sentence perplexity:', sum(sent_perplexity) / len(sent_perplexity))"
   ]
  },
  {
   "cell_type": "markdown",
   "id": "577fbfa8-496d-4c7b-9739-30ae4ee51c05",
   "metadata": {},
   "source": [
    "## 2. 256 cells"
   ]
  },
  {
   "cell_type": "code",
   "execution_count": 7,
   "id": "f34e7260-4a8d-4a36-8c20-8eee1fd2eb83",
   "metadata": {},
   "outputs": [],
   "source": [
    "model2 = Lstm_model(dataset, lstm_size = 256, num_layers = 2)"
   ]
  },
  {
   "cell_type": "code",
   "execution_count": 8,
   "id": "4fe63738-3ab0-4f80-9f0a-896e3d7fa1eb",
   "metadata": {},
   "outputs": [
    {
     "name": "stdout",
     "output_type": "stream",
     "text": [
      "-> Loading checkpoint\n",
      "Elapsed time:  0.06868791580200195\n"
     ]
    }
   ],
   "source": [
    "start_time = time.time()\n",
    "\n",
    "loss_hist = train(dataset, model2, args, ckpt_filename='two_layer_lstm/256.tar',\n",
    "      load_model=True, save_epochs=2)\n",
    "\n",
    "end_time = time.time()\n",
    "elapsed_time = end_time - start_time\n",
    "print(\"Elapsed time: \", elapsed_time) "
   ]
  },
  {
   "cell_type": "code",
   "execution_count": 9,
   "id": "a671aa39-7d1e-4cf5-8743-5589e2c36ab5",
   "metadata": {},
   "outputs": [
    {
     "data": {
      "image/png": "[encoded data removed]",
      "text/plain": [
       "<Figure size 432x288 with 1 Axes>"
      ]
     },
     "metadata": {
      "needs_background": "light"
     },
     "output_type": "display_data"
    }
   ],
   "source": [
    "import matplotlib.pyplot as plt\n",
    "\n",
    "exp = torch.load('two_layer_lstm/256.tar')\n",
    "loss_history = exp[\"loss_history\"]\n",
    "plt.plot(range(len(loss_history)), loss_history) # trained for 60 epochs\n",
    "plt.xlabel(\"Epoch\")\n",
    "plt.ylabel(\"Loss\")\n",
    "plt.show()"
   ]
  },
  {
   "cell_type": "code",
   "execution_count": 10,
   "id": "dc752fd2-4fd9-488c-8a80-5734fcb55cec",
   "metadata": {},
   "outputs": [
    {
     "name": "stdout",
     "output_type": "stream",
     "text": [
      "Generated text:\n",
      " \n",
      "<s> this is a story about monster king shook his head and she said in the place on the side of the forest had seen himself </s> <s> only one day he came back and in order to a stable where he thought he was so taking for instead of his kingdom in his life his thoughts did not even twenty troops in greeting </s> <s> he has feel we want </s> <s> as use of a sudden it and answered the prince if i am waiting for you o prince and the next minute he reared himself out of the water huge and horrible to </s>\n",
      " \n",
      "Number of sentences: 4\n",
      " \n",
      "Perplexity per sentence: [1.3122141251885846, 1.2655729185356512, 1.2935545465986127, 0.5762492480834887]\n",
      " \n",
      "Average sentence perplexity: 1.1118977096015843\n"
     ]
    }
   ],
   "source": [
    "text,sent_perplexity = predict(dataset, model2, text='this is a story about', next_words=100)\n",
    "\n",
    "print('Generated text:')\n",
    "print(' ')\n",
    "print(text)\n",
    "print(' ')\n",
    "print('Number of sentences:', len(sent_perplexity))\n",
    "print(' ')\n",
    "print('Perplexity per sentence:', sent_perplexity)\n",
    "print(' ')\n",
    "print('Average sentence perplexity:', sum(sent_perplexity) / len(sent_perplexity))"
   ]
  },
  {
   "cell_type": "markdown",
   "id": "43678a82-a557-4662-aab1-6325ce37546a",
   "metadata": {},
   "source": [
    "## 3. 512 cells "
   ]
  },
  {
   "cell_type": "code",
   "execution_count": 15,
   "id": "0a745855-0b78-40d9-9dfb-2771d9ebb1aa",
   "metadata": {},
   "outputs": [],
   "source": [
    "model3 = Lstm_model(dataset, lstm_size = 512, num_layers = 2)"
   ]
  },
  {
   "cell_type": "code",
   "execution_count": 16,
   "id": "7dcc7340-b91f-4611-a725-afb263d1b3ec",
   "metadata": {},
   "outputs": [
    {
     "name": "stdout",
     "output_type": "stream",
     "text": [
      "-> Loading checkpoint\n",
      "Elapsed time:  0.15625619888305664\n"
     ]
    }
   ],
   "source": [
    "start_time = time.time()\n",
    "\n",
    "train(dataset, model3, args, ckpt_filename='two_layer_lstm/512.tar',\n",
    "      load_model=True, save_epochs=2)\n",
    "\n",
    "end_time = time.time()\n",
    "elapsed_time = end_time - start_time\n",
    "print(\"Elapsed time: \", elapsed_time) "
   ]
  },
  {
   "cell_type": "code",
   "execution_count": 17,
   "id": "464a4ba9-bcae-43d7-90bc-83a721cefcec",
   "metadata": {},
   "outputs": [
    {
     "data": {
      "image/png": "[encoded data removed]",
      "text/plain": [
       "<Figure size 432x288 with 1 Axes>"
      ]
     },
     "metadata": {
      "needs_background": "light"
     },
     "output_type": "display_data"
    }
   ],
   "source": [
    "import matplotlib.pyplot as plt\n",
    "\n",
    "exp = torch.load('two_layer_lstm/512.tar')\n",
    "loss_history = exp[\"loss_history\"]\n",
    "plt.plot(range(len(loss_history)), loss_history) # trained for 60 epochs\n",
    "plt.xlabel(\"Epoch\")\n",
    "plt.ylabel(\"Loss\")\n",
    "plt.show()"
   ]
  },
  {
   "cell_type": "code",
   "execution_count": 20,
   "id": "23d8c04f-cfee-4105-a08c-f120c26343f3",
   "metadata": {},
   "outputs": [
    {
     "name": "stdout",
     "output_type": "stream",
     "text": [
      "Generated text:\n",
      " \n",
      "<s> this is a story about dale men till they reached the other side as he was going and led out to his house </s> <s> they gathered round to admire his beauty and whispered one to the king it had not been for him the young man would have remained poor all the days of his life </s> <s> now the king did not fly about the magician and the queen said nothing but kept watch else there is to the castle but no sooner was just as the king wished </s> <s> the rope however was there to be who said he had done </s>\n",
      " \n",
      "Number of sentences: 4\n",
      " \n",
      "Perplexity per sentence: [1.4828466180257038, 0.25671450414162367, 1.2392532360797384, 1.8940854294627252]\n",
      " \n",
      "Average sentence perplexity: 1.2182249469274478\n"
     ]
    }
   ],
   "source": [
    "text,sent_perplexity = predict(dataset, model3, text='this is a story about', next_words=100)\n",
    "\n",
    "print('Generated text:')\n",
    "print(' ')\n",
    "print(text)\n",
    "print(' ')\n",
    "print('Number of sentences:', len(sent_perplexity))\n",
    "print(' ')\n",
    "print('Perplexity per sentence:', sent_perplexity)\n",
    "print(' ')\n",
    "print('Average sentence perplexity:', sum(sent_perplexity) / len(sent_perplexity))"
   ]
  },
  {
   "cell_type": "code",
   "execution_count": null,
   "id": "527677cb-70a4-4b6e-8f50-3768333f15c4",
   "metadata": {},
   "outputs": [],
   "source": []
  }
 ],
 "metadata": {
  "kernelspec": {
   "display_name": "Python 3 (ipykernel)",
   "language": "python",
   "name": "python3"
  },
  "language_info": {
   "codemirror_mode": {
    "name": "ipython",
    "version": 3
   },
   "file_extension": ".py",
   "mimetype": "text/x-python",
   "name": "python",
   "nbconvert_exporter": "python",
   "pygments_lexer": "ipython3",
   "version": "3.9.5"
  }
 },
 "nbformat": 4,
 "nbformat_minor": 5
}
