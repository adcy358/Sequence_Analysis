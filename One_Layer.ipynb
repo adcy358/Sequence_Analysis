{
 "cells": [
  {
   "cell_type": "markdown",
   "id": "48c60255-20bf-4d01-ae1c-7636f5367d42",
   "metadata": {},
   "source": [
    "# One Layer LSTM"
   ]
  },
  {
   "cell_type": "markdown",
   "id": "32120681-e11d-488f-aae7-c3617e1c2be2",
   "metadata": {},
   "source": [
    "We will train the following number of cells for a One-Layer LSTM: "
   ]
  },
  {
   "cell_type": "code",
   "execution_count": 1,
   "id": "1d184d5d-7056-4ea6-8103-181b181d5c58",
   "metadata": {},
   "outputs": [],
   "source": [
    "import torch \n",
    "from torch import nn \n",
    "import numpy as np\n",
    "import argparse\n",
    "from Dataset import FairytalesDataset\n",
    "from torch import nn, optim\n",
    "from torch.utils.data import DataLoader\n",
    "from train import save_checkpoint, load_checkpoint, train\n",
    "from models import Lstm_model\n",
    "from test import predict \n",
    "import time"
   ]
  },
  {
   "cell_type": "code",
   "execution_count": 2,
   "id": "15c8f873-041f-478e-a9eb-9fb58ad967ea",
   "metadata": {},
   "outputs": [
    {
     "name": "stdout",
     "output_type": "stream",
     "text": [
      "(tensor([ 53,   9,  73,   6,  19, 149,  40]), tensor([  9,  73,   6,  19, 149,  40,  93]))\n",
      "Vocab: 3028\n"
     ]
    }
   ],
   "source": [
    "DIR_PATH = \"data/fairytales.txt\"\n",
    "START_TOKEN = \"<s>\"\n",
    "END_TOKEN = \"</s>\"\n",
    "\n",
    "parser = argparse.ArgumentParser()\n",
    "parser.add_argument('--max-epochs', type=int, default=0)\n",
    "parser.add_argument('--batch-size', type=int, default=256)\n",
    "parser.add_argument('--sequence_length', type=int, default=7)\n",
    "args, unknown = parser.parse_known_args()\n",
    "\n",
    "dataset = FairytalesDataset(DIR_PATH, START_TOKEN, END_TOKEN, args)\n",
    "print(dataset.__getitem__(3))\n",
    "print('Vocab:', len(dataset.unique_words))"
   ]
  },
  {
   "cell_type": "markdown",
   "id": "99bde286-b21e-4916-b189-7cf6ccbba314",
   "metadata": {},
   "source": [
    "## 1. 128 cells"
   ]
  },
  {
   "cell_type": "code",
   "execution_count": 3,
   "id": "39f7884c-4d77-4e10-bcdf-5232cb183067",
   "metadata": {},
   "outputs": [],
   "source": [
    "model = Lstm_model(dataset, lstm_size = 128, num_layers = 1)"
   ]
  },
  {
   "cell_type": "code",
   "execution_count": 4,
   "id": "79840734-ab71-4733-908f-90ead0f830e5",
   "metadata": {},
   "outputs": [
    {
     "name": "stdout",
     "output_type": "stream",
     "text": [
      "-> Loading checkpoint\n",
      "Elapsed time:  0.03163933753967285\n"
     ]
    }
   ],
   "source": [
    "start_time = time.time()\n",
    "\n",
    "loss_hist = train(dataset, model, args, ckpt_filename='one_layer_lstm/128.tar',\n",
    "      load_model=True, save_epochs=2)\n",
    "\n",
    "end_time = time.time()\n",
    "elapsed_time = end_time - start_time\n",
    "print(\"Elapsed time: \", elapsed_time) "
   ]
  },
  {
   "cell_type": "code",
   "execution_count": 5,
   "id": "ee982010-92e9-4874-a927-a2b8605bb559",
   "metadata": {},
   "outputs": [
    {
     "data": {
      "image/png": "[encoded data removed]",
      "text/plain": [
       "<Figure size 432x288 with 1 Axes>"
      ]
     },
     "metadata": {
      "needs_background": "light"
     },
     "output_type": "display_data"
    }
   ],
   "source": [
    "import matplotlib.pyplot as plt\n",
    "\n",
    "exp = torch.load('one_layer_lstm/128.tar')\n",
    "loss_history = exp[\"loss_history\"]\n",
    "plt.plot(range(len(loss_history)), loss_history) # trained for 60 epochs\n",
    "plt.xlabel(\"Epoch\")\n",
    "plt.ylabel(\"Loss\")\n",
    "plt.show()"
   ]
  },
  {
   "cell_type": "code",
   "execution_count": 6,
   "id": "76b2b75e-583f-42d2-8f9b-17b9a163301b",
   "metadata": {},
   "outputs": [
    {
     "name": "stdout",
     "output_type": "stream",
     "text": [
      "Generated text:\n",
      " \n",
      "<s> this is a story about grows feast sign careful merchant even look for dead hair too hoped want who noticed inclined spoken eat against your visitor lose hunting paths and with their scabbard this was of people so poor that said you have to kill me what you i will marry him and everyone looked your being anxious so that you can reach you want </s> <s> angel replied he might be be my people </s> <s> and taking the hare sprang as he was very busy polishing in the white together </s> <s> the servant said lord never let fly and i also drink </s>\n",
      " \n",
      "Number of sentences: 4\n",
      " \n",
      "Perplexity per sentence: [2.701178631886715, 1.8231885735310922, 1.5428311683198905, 2.1821749757618987]\n",
      " \n",
      "Average sentence perplexity: 2.062343337374899\n"
     ]
    }
   ],
   "source": [
    "text,sent_perplexity = predict(dataset, model, text='this is a story about', next_words=100)\n",
    "\n",
    "print('Generated text:')\n",
    "print(' ')\n",
    "print(text)\n",
    "print(' ')\n",
    "print('Number of sentences:', len(sent_perplexity))\n",
    "print(' ')\n",
    "print('Perplexity per sentence:', sent_perplexity)\n",
    "print(' ')\n",
    "print('Average sentence perplexity:', sum(sent_perplexity) / len(sent_perplexity))"
   ]
  },
  {
   "cell_type": "markdown",
   "id": "577fbfa8-496d-4c7b-9739-30ae4ee51c05",
   "metadata": {},
   "source": [
    "## 2. 256 cells"
   ]
  },
  {
   "cell_type": "code",
   "execution_count": 7,
   "id": "f34e7260-4a8d-4a36-8c20-8eee1fd2eb83",
   "metadata": {},
   "outputs": [],
   "source": [
    "model2 = Lstm_model(dataset, lstm_size = 256, num_layers = 1)"
   ]
  },
  {
   "cell_type": "code",
   "execution_count": 8,
   "id": "4fe63738-3ab0-4f80-9f0a-896e3d7fa1eb",
   "metadata": {},
   "outputs": [
    {
     "name": "stdout",
     "output_type": "stream",
     "text": [
      "-> Loading checkpoint\n",
      "Elapsed time:  0.05400419235229492\n"
     ]
    }
   ],
   "source": [
    "start_time = time.time()\n",
    "\n",
    "loss_hist = train(dataset, model2, args, ckpt_filename='one_layer_lstm/256.tar',\n",
    "      load_model=True, save_epochs=2)\n",
    "\n",
    "end_time = time.time()\n",
    "elapsed_time = end_time - start_time\n",
    "print(\"Elapsed time: \", elapsed_time) "
   ]
  },
  {
   "cell_type": "code",
   "execution_count": 9,
   "id": "a671aa39-7d1e-4cf5-8743-5589e2c36ab5",
   "metadata": {},
   "outputs": [
    {
     "data": {
      "image/png": "[encoded data removed]",
      "text/plain": [
       "<Figure size 432x288 with 1 Axes>"
      ]
     },
     "metadata": {
      "needs_background": "light"
     },
     "output_type": "display_data"
    }
   ],
   "source": [
    "import matplotlib.pyplot as plt\n",
    "\n",
    "exp2 = torch.load('one_layer_lstm/256.tar')\n",
    "loss_history2 = exp2[\"loss_history\"]\n",
    "plt.plot(range(len(loss_history2)), loss_history2) \n",
    "plt.xlabel(\"Epoch\")\n",
    "plt.ylabel(\"Loss\")\n",
    "plt.show()"
   ]
  },
  {
   "cell_type": "code",
   "execution_count": 10,
   "id": "dc752fd2-4fd9-488c-8a80-5734fcb55cec",
   "metadata": {},
   "outputs": [
    {
     "name": "stdout",
     "output_type": "stream",
     "text": [
      "Generated text:\n",
      " \n",
      "<s> this is a story about in front without was a war against a week </s> <s> when he got back to the town a little while he was absent any little eaglets who ventured too near the ground would be sure to disappear down the monster throat </s> <s> their brothers who had been left behind as too young and weak to see the world knew nothing of all this but supposed their turn would soon come to see the world also </s> <s> and in a few days their eyes too opened and their wings flapped impatiently and they longed to fly away above </s>\n",
      " \n",
      "Number of sentences: 4\n",
      " \n",
      "Perplexity per sentence: [2.271318669634631, 0.5501557424646802, 0.004629362584845141, 0.0029110114441860927]\n",
      " \n",
      "Average sentence perplexity: 0.7072536965320856\n"
     ]
    }
   ],
   "source": [
    "text,sent_perplexity = predict(dataset, model2, text='this is a story about', next_words=100)\n",
    "\n",
    "print('Generated text:')\n",
    "print(' ')\n",
    "print(text)\n",
    "print(' ')\n",
    "print('Number of sentences:', len(sent_perplexity))\n",
    "print(' ')\n",
    "print('Perplexity per sentence:', sent_perplexity)\n",
    "print(' ')\n",
    "print('Average sentence perplexity:', sum(sent_perplexity) / len(sent_perplexity))"
   ]
  },
  {
   "cell_type": "markdown",
   "id": "43678a82-a557-4662-aab1-6325ce37546a",
   "metadata": {},
   "source": [
    "## 3. 512 cells "
   ]
  },
  {
   "cell_type": "code",
   "execution_count": 3,
   "id": "0a745855-0b78-40d9-9dfb-2771d9ebb1aa",
   "metadata": {},
   "outputs": [],
   "source": [
    "model3 = Lstm_model(dataset, lstm_size = 512, num_layers = 1)"
   ]
  },
  {
   "cell_type": "code",
   "execution_count": 4,
   "id": "7dcc7340-b91f-4611-a725-afb263d1b3ec",
   "metadata": {},
   "outputs": [
    {
     "name": "stdout",
     "output_type": "stream",
     "text": [
      "-> Loading checkpoint\n",
      "Elapsed time:  0.11610603332519531\n"
     ]
    }
   ],
   "source": [
    "start_time = time.time()\n",
    "\n",
    "train(dataset, model3, args, ckpt_filename='one_layer_lstm/512.tar',\n",
    "      load_model=True, save_epochs=2)\n",
    "\n",
    "end_time = time.time()\n",
    "elapsed_time = end_time - start_time\n",
    "print(\"Elapsed time: \", elapsed_time) "
   ]
  },
  {
   "cell_type": "code",
   "execution_count": 5,
   "id": "99190979-6191-4ee2-8eb0-3c6b2464c7de",
   "metadata": {},
   "outputs": [
    {
     "data": {
      "image/png": "[encoded data removed]",
      "text/plain": [
       "<Figure size 432x288 with 1 Axes>"
      ]
     },
     "metadata": {
      "needs_background": "light"
     },
     "output_type": "display_data"
    }
   ],
   "source": [
    "import matplotlib.pyplot as plt\n",
    "\n",
    "exp3 = torch.load('one_layer_lstm/512.tar')\n",
    "loss_history3 = exp3[\"loss_history\"]\n",
    "plt.plot(range(len(loss_history3)), loss_history3) \n",
    "plt.xlabel(\"Epoch\")\n",
    "plt.ylabel(\"Loss\")\n",
    "plt.show()"
   ]
  },
  {
   "cell_type": "code",
   "execution_count": 8,
   "id": "23d8c04f-cfee-4105-a08c-f120c26343f3",
   "metadata": {},
   "outputs": [
    {
     "name": "stdout",
     "output_type": "stream",
     "text": [
      "Generated text:\n",
      " \n",
      "<s> once upon a time high mouth the island was returned from the king who was getting tired of his lovely and he cut off a long curl and handed it to him </s> <s> the girl returned with him and managed to get a place as housemaid in the palace </s> <s> of course she was very busy all day long but whenever she had a little spare time she sat down to spin </s> <s> her distaff turned of itself and her spindle span by itself and the flax wound itself off and however much she might use there was always plenty left </s>\n",
      " \n",
      "Number of sentences: 4\n",
      " \n",
      "Perplexity per sentence: [1.8891170691995498, 0.15620754388183858, 0.000567015500979989, 0.0005226111318369946]\n",
      " \n",
      "Average sentence perplexity: 0.5116035599285512\n"
     ]
    }
   ],
   "source": [
    "text,sent_perplexity = predict(dataset, model3, text='once upon a time', next_words=100)\n",
    "\n",
    "print('Generated text:')\n",
    "print(' ')\n",
    "print(text)\n",
    "print(' ')\n",
    "print('Number of sentences:', len(sent_perplexity))\n",
    "print(' ')\n",
    "print('Perplexity per sentence:', sent_perplexity)\n",
    "print(' ')\n",
    "print('Average sentence perplexity:', sum(sent_perplexity) / len(sent_perplexity))"
   ]
  },
  {
   "cell_type": "code",
   "execution_count": null,
   "id": "8e58f1da-5029-41ab-ae22-d79f23322e20",
   "metadata": {},
   "outputs": [],
   "source": []
  }
 ],
 "metadata": {
  "kernelspec": {
   "display_name": "Python 3 (ipykernel)",
   "language": "python",
   "name": "python3"
  },
  "language_info": {
   "codemirror_mode": {
    "name": "ipython",
    "version": 3
   },
   "file_extension": ".py",
   "mimetype": "text/x-python",
   "name": "python",
   "nbconvert_exporter": "python",
   "pygments_lexer": "ipython3",
   "version": "3.9.5"
  }
 },
 "nbformat": 4,
 "nbformat_minor": 5
}
